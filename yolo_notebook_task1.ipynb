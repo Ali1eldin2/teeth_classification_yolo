{
 "cells": [
  {
   "cell_type": "code",
   "execution_count": 1,
   "id": "c09925f1",
   "metadata": {},
   "outputs": [
    {
     "name": "stdout",
     "output_type": "stream",
     "text": [
      "\u001b[KDownloading https://github.com/ultralytics/assets/releases/download/v8.3.0/yolov8n-cls.pt to 'yolov8n-cls.pt': 100% ━━━━━━━━━━━━ 5.3MB 5.1MB/s 1.0s.0s<0.0s.2s\n"
     ]
    }
   ],
   "source": [
    "from ultralytics import YOLO\n",
    "import os\n",
    "\n",
    "# 1️⃣ Initialize a YOLOv8 classification model\n",
    "model = YOLO('yolov8n-cls.pt')  # small model pre-trained on ImageNet for classification\n",
    "\n",
    "\n",
    "\n",
    "\n"
   ]
  },
  {
   "cell_type": "code",
   "execution_count": 2,
   "id": "918cd2d8",
   "metadata": {},
   "outputs": [
    {
     "name": "stdout",
     "output_type": "stream",
     "text": [
      "Ultralytics 8.3.199  Python-3.13.7 torch-2.8.0+cpu CPU (AMD Ryzen 9 9955HX 16-Core Processor)\n",
      "\u001b[34m\u001b[1mengine\\trainer: \u001b[0magnostic_nms=False, amp=True, augment=False, auto_augment=randaugment, batch=16, bgr=0.0, box=7.5, cache=False, cfg=None, classes=None, close_mosaic=10, cls=0.5, compile=False, conf=None, copy_paste=0.0, copy_paste_mode=flip, cos_lr=False, cutmix=0.0, data=D:\\cellula\\task1_yolo\\Teeth_Dataset, degrees=0.0, deterministic=True, device=cpu, dfl=1.5, dnn=False, dropout=0.0, dynamic=False, embed=None, epochs=10, erasing=0.4, exist_ok=False, fliplr=0.5, flipud=0.0, format=torchscript, fraction=1.0, freeze=None, half=False, hsv_h=0.015, hsv_s=0.7, hsv_v=0.4, imgsz=224, int8=False, iou=0.7, keras=False, kobj=1.0, line_width=None, lr0=0.01, lrf=0.01, mask_ratio=4, max_det=300, mixup=0.0, mode=train, model=yolov8n-cls.pt, momentum=0.937, mosaic=1.0, multi_scale=False, name=yolo_classify_teeth, nbs=64, nms=False, opset=None, optimize=False, optimizer=auto, overlap_mask=True, patience=100, perspective=0.0, plots=True, pose=12.0, pretrained=True, profile=False, project=None, rect=False, resume=False, retina_masks=False, save=True, save_conf=False, save_crop=False, save_dir=D:\\cellula\\task1_yolo\\runs\\classify\\yolo_classify_teeth, save_frames=False, save_json=False, save_period=-1, save_txt=False, scale=0.5, seed=0, shear=0.0, show=False, show_boxes=True, show_conf=True, show_labels=True, simplify=True, single_cls=False, source=None, split=val, stream_buffer=False, task=classify, time=None, tracker=botsort.yaml, translate=0.1, val=True, verbose=True, vid_stride=1, visualize=False, warmup_bias_lr=0.1, warmup_epochs=3.0, warmup_momentum=0.8, weight_decay=0.0005, workers=8, workspace=None\n",
      "\u001b[34m\u001b[1mtrain:\u001b[0m D:\\cellula\\task1_yolo\\Teeth_Dataset\\train... found 3087 images in 7 classes  \n",
      "\u001b[34m\u001b[1mval:\u001b[0m D:\\cellula\\task1_yolo\\Teeth_Dataset\\val... found 1028 images in 7 classes  \n",
      "ERROR \u001b[34m\u001b[1mtest:\u001b[0m D:\\cellula\\task1_yolo\\Teeth_Dataset\\test... found 897 images in 6 classes (requires 7 classes, not 6)\n",
      "Overriding model.yaml nc=1000 with nc=7\n",
      "\n",
      "                   from  n    params  module                                       arguments                     \n",
      "  0                  -1  1       464  ultralytics.nn.modules.conv.Conv             [3, 16, 3, 2]                 \n",
      "  1                  -1  1      4672  ultralytics.nn.modules.conv.Conv             [16, 32, 3, 2]                \n",
      "  2                  -1  1      7360  ultralytics.nn.modules.block.C2f             [32, 32, 1, True]             \n",
      "  3                  -1  1     18560  ultralytics.nn.modules.conv.Conv             [32, 64, 3, 2]                \n",
      "  4                  -1  2     49664  ultralytics.nn.modules.block.C2f             [64, 64, 2, True]             \n",
      "  5                  -1  1     73984  ultralytics.nn.modules.conv.Conv             [64, 128, 3, 2]               \n",
      "  6                  -1  2    197632  ultralytics.nn.modules.block.C2f             [128, 128, 2, True]           \n",
      "  7                  -1  1    295424  ultralytics.nn.modules.conv.Conv             [128, 256, 3, 2]              \n",
      "  8                  -1  1    460288  ultralytics.nn.modules.block.C2f             [256, 256, 1, True]           \n",
      "  9                  -1  1    339207  ultralytics.nn.modules.head.Classify         [256, 7]                      \n",
      "YOLOv8n-cls summary: 56 layers, 1,447,255 parameters, 1,447,255 gradients, 3.4 GFLOPs\n",
      "Transferred 156/158 items from pretrained weights\n",
      "\u001b[34m\u001b[1mtrain: \u001b[0mFast image access  (ping: 0.00.0 ms, read: 118.032.8 MB/s, size: 6.2 KB)\n",
      "\u001b[K\u001b[34m\u001b[1mtrain: \u001b[0mScanning D:\\cellula\\task1_yolo\\Teeth_Dataset\\train... 3087 images, 0 corrupt: 100% ━━━━━━━━━━━━ 3087/3087 4.8Kit/s 0.6s0.1s\n",
      "\u001b[34m\u001b[1mtrain: \u001b[0mNew cache created: D:\\cellula\\task1_yolo\\Teeth_Dataset\\train.cache\n",
      "\u001b[34m\u001b[1mval: \u001b[0mFast image access  (ping: 0.00.0 ms, read: 160.541.5 MB/s, size: 7.3 KB)\n",
      "\u001b[K\u001b[34m\u001b[1mval: \u001b[0mScanning D:\\cellula\\task1_yolo\\Teeth_Dataset\\val... 1028 images, 0 corrupt: 100% ━━━━━━━━━━━━ 1028/1028 9.9Kit/s 0.1s0s\n",
      "\u001b[34m\u001b[1mval: \u001b[0mNew cache created: D:\\cellula\\task1_yolo\\Teeth_Dataset\\val.cache\n",
      "\u001b[34m\u001b[1moptimizer:\u001b[0m 'optimizer=auto' found, ignoring 'lr0=0.01' and 'momentum=0.937' and determining best 'optimizer', 'lr0' and 'momentum' automatically... \n",
      "\u001b[34m\u001b[1moptimizer:\u001b[0m AdamW(lr=0.000909, momentum=0.9) with parameter groups 26 weight(decay=0.0), 27 weight(decay=0.0005), 27 bias(decay=0.0)\n",
      "Image sizes 224 train, 224 val\n",
      "Using 0 dataloader workers\n",
      "Logging results to \u001b[1mD:\\cellula\\task1_yolo\\runs\\classify\\yolo_classify_teeth\u001b[0m\n",
      "Starting training for 10 epochs...\n",
      "\n",
      "      Epoch    GPU_mem       loss  Instances       Size\n",
      "\u001b[K       1/10         0G      1.618         15        224: 100% ━━━━━━━━━━━━ 193/193 9.8it/s 19.7s<0.1s\n",
      "\u001b[K               classes   top1_acc   top5_acc: 100% ━━━━━━━━━━━━ 33/33 18.6it/s 1.8s0.1s\n",
      "                   all      0.663      0.991\n",
      "\n",
      "      Epoch    GPU_mem       loss  Instances       Size\n",
      "\u001b[K       2/10         0G     0.9068         15        224: 100% ━━━━━━━━━━━━ 193/193 10.9it/s 17.7s0.2s\n",
      "\u001b[K               classes   top1_acc   top5_acc: 100% ━━━━━━━━━━━━ 33/33 17.9it/s 1.8s0.1s\n",
      "                   all      0.839          1\n",
      "\n",
      "      Epoch    GPU_mem       loss  Instances       Size\n",
      "\u001b[K       3/10         0G     0.6297         15        224: 100% ━━━━━━━━━━━━ 193/193 11.3it/s 17.1s0.1s\n",
      "\u001b[K               classes   top1_acc   top5_acc: 100% ━━━━━━━━━━━━ 33/33 17.7it/s 1.9s0.1s\n",
      "                   all      0.889      0.998\n",
      "\n",
      "      Epoch    GPU_mem       loss  Instances       Size\n",
      "\u001b[K       4/10         0G     0.4723         15        224: 100% ━━━━━━━━━━━━ 193/193 11.2it/s 17.2s0.2s\n",
      "\u001b[K               classes   top1_acc   top5_acc: 100% ━━━━━━━━━━━━ 33/33 16.9it/s 2.0s0.1s\n",
      "                   all      0.938      0.998\n",
      "\n",
      "      Epoch    GPU_mem       loss  Instances       Size\n",
      "\u001b[K       5/10         0G     0.3581         15        224: 100% ━━━━━━━━━━━━ 193/193 11.1it/s 17.3s0.1s\n",
      "\u001b[K               classes   top1_acc   top5_acc: 100% ━━━━━━━━━━━━ 33/33 17.8it/s 1.9s0.1s\n",
      "                   all      0.971      0.999\n",
      "\n",
      "      Epoch    GPU_mem       loss  Instances       Size\n",
      "\u001b[K       6/10         0G     0.2953         15        224: 100% ━━━━━━━━━━━━ 193/193 10.9it/s 17.7s0.2s\n",
      "\u001b[K               classes   top1_acc   top5_acc: 100% ━━━━━━━━━━━━ 33/33 17.4it/s 1.9s0.1s\n",
      "                   all      0.982          1\n",
      "\n",
      "      Epoch    GPU_mem       loss  Instances       Size\n",
      "\u001b[K       7/10         0G     0.2356         15        224: 100% ━━━━━━━━━━━━ 193/193 11.0it/s 17.6s0.1s\n",
      "\u001b[K               classes   top1_acc   top5_acc: 100% ━━━━━━━━━━━━ 33/33 17.8it/s 1.9s0.1s\n",
      "                   all      0.989          1\n",
      "\n",
      "      Epoch    GPU_mem       loss  Instances       Size\n",
      "\u001b[K       8/10         0G     0.1902         15        224: 100% ━━━━━━━━━━━━ 193/193 10.7it/s 18.1s0.2s\n",
      "\u001b[K               classes   top1_acc   top5_acc: 100% ━━━━━━━━━━━━ 33/33 17.1it/s 1.9s0.1s\n",
      "                   all       0.99          1\n",
      "\n",
      "      Epoch    GPU_mem       loss  Instances       Size\n",
      "\u001b[K       9/10         0G     0.1775         15        224: 100% ━━━━━━━━━━━━ 193/193 10.8it/s 17.9s0.1s\n",
      "\u001b[K               classes   top1_acc   top5_acc: 100% ━━━━━━━━━━━━ 33/33 17.5it/s 1.9s0.1s\n",
      "                   all      0.993          1\n",
      "\n",
      "      Epoch    GPU_mem       loss  Instances       Size\n",
      "\u001b[K      10/10         0G     0.1638         15        224: 100% ━━━━━━━━━━━━ 193/193 11.1it/s 17.4s0.1s\n",
      "\u001b[K               classes   top1_acc   top5_acc: 100% ━━━━━━━━━━━━ 33/33 17.5it/s 1.9s0.1s\n",
      "                   all      0.991          1\n",
      "\n",
      "10 epochs completed in 0.056 hours.\n",
      "Optimizer stripped from D:\\cellula\\task1_yolo\\runs\\classify\\yolo_classify_teeth\\weights\\last.pt, 3.0MB\n",
      "Optimizer stripped from D:\\cellula\\task1_yolo\\runs\\classify\\yolo_classify_teeth\\weights\\best.pt, 3.0MB\n",
      "\n",
      "Validating D:\\cellula\\task1_yolo\\runs\\classify\\yolo_classify_teeth\\weights\\best.pt...\n",
      "Ultralytics 8.3.199  Python-3.13.7 torch-2.8.0+cpu CPU (AMD Ryzen 9 9955HX 16-Core Processor)\n",
      "YOLOv8n-cls summary (fused): 30 layers, 1,443,847 parameters, 0 gradients, 3.3 GFLOPs\n",
      "\u001b[34m\u001b[1mtrain:\u001b[0m D:\\cellula\\task1_yolo\\Teeth_Dataset\\train... found 3087 images in 7 classes  \n",
      "\u001b[34m\u001b[1mval:\u001b[0m D:\\cellula\\task1_yolo\\Teeth_Dataset\\val... found 1028 images in 7 classes  \n",
      "ERROR \u001b[34m\u001b[1mtest:\u001b[0m D:\\cellula\\task1_yolo\\Teeth_Dataset\\test... found 897 images in 6 classes (requires 7 classes, not 6)\n",
      "\u001b[K               classes   top1_acc   top5_acc: 100% ━━━━━━━━━━━━ 33/33 18.8it/s 1.8s0.1s\n",
      "                   all      0.993          1\n",
      "Speed: 0.0ms preprocess, 0.8ms inference, 0.0ms loss, 0.0ms postprocess per image\n",
      "Results saved to \u001b[1mD:\\cellula\\task1_yolo\\runs\\classify\\yolo_classify_teeth\u001b[0m\n"
     ]
    },
    {
     "data": {
      "text/plain": [
       "ultralytics.utils.metrics.ClassifyMetrics object with attributes:\n",
       "\n",
       "confusion_matrix: <ultralytics.utils.metrics.ConfusionMatrix object at 0x00000208FEF16A80>\n",
       "curves: []\n",
       "curves_results: []\n",
       "fitness: 0.9965953230857849\n",
       "keys: ['metrics/accuracy_top1', 'metrics/accuracy_top5']\n",
       "results_dict: {'metrics/accuracy_top1': 0.9931906461715698, 'metrics/accuracy_top5': 1.0, 'fitness': 0.9965953230857849}\n",
       "save_dir: WindowsPath('D:/cellula/task1_yolo/runs/classify/yolo_classify_teeth')\n",
       "speed: {'preprocess': 0.0002928988263826339, 'inference': 0.7873801556406796, 'loss': 3.0058311526790437e-05, 'postprocess': 5.369656719267368e-05}\n",
       "task: 'classify'\n",
       "top1: 0.9931906461715698\n",
       "top5: 1.0"
      ]
     },
     "execution_count": 2,
     "metadata": {},
     "output_type": "execute_result"
    }
   ],
   "source": [
    "# 2️⃣ Train on your dataset\n",
    "model.train(\n",
    "    data=r\"D:\\cellula\\task1_yolo\\Teeth_Dataset\",\n",
    "    epochs=10,\n",
    "    batch=16,\n",
    "    name=\"yolo_classify_teeth\",\n",
    "    imgsz=224  # matches your current image size\n",
    ")"
   ]
  },
  {
   "cell_type": "code",
   "execution_count": 3,
   "id": "ee65698e",
   "metadata": {},
   "outputs": [
    {
     "name": "stdout",
     "output_type": "stream",
     "text": [
      "Ultralytics 8.3.199  Python-3.13.7 torch-2.8.0+cpu CPU (AMD Ryzen 9 9955HX 16-Core Processor)\n",
      "YOLOv8n-cls summary (fused): 30 layers, 1,443,847 parameters, 0 gradients, 3.3 GFLOPs\n",
      "\u001b[34m\u001b[1mtrain:\u001b[0m D:\\cellula\\task1_yolo\\Teeth_Dataset\\train... found 3087 images in 7 classes  \n",
      "\u001b[34m\u001b[1mval:\u001b[0m D:\\cellula\\task1_yolo\\Teeth_Dataset\\val... found 1028 images in 7 classes  \n",
      "ERROR \u001b[34m\u001b[1mtest:\u001b[0m D:\\cellula\\task1_yolo\\Teeth_Dataset\\test... found 897 images in 6 classes (requires 7 classes, not 6)\n",
      "\u001b[34m\u001b[1mtest: \u001b[0mFast image access  (ping: 0.00.0 ms, read: 144.643.1 MB/s, size: 7.8 KB)\n",
      "\u001b[K\u001b[34m\u001b[1mtest: \u001b[0mScanning D:\\cellula\\task1_yolo\\Teeth_Dataset\\test... 897 images, 0 corrupt: 100% ━━━━━━━━━━━━ 897/897 7.0Kit/s 0.1s0.1s\n",
      "\u001b[34m\u001b[1mtest: \u001b[0mNew cache created: D:\\cellula\\task1_yolo\\Teeth_Dataset\\test.cache\n",
      "\u001b[K               classes   top1_acc   top5_acc: 100% ━━━━━━━━━━━━ 57/57 36.7it/s 1.6s0.1s\n",
      "                   all      0.992          1\n",
      "Speed: 0.0ms preprocess, 0.8ms inference, 0.0ms loss, 0.0ms postprocess per image\n",
      "Results saved to \u001b[1mD:\\cellula\\task1_yolo\\runs\\classify\\yolo_classify_teeth2\u001b[0m\n",
      "ultralytics.utils.metrics.ClassifyMetrics object with attributes:\n",
      "\n",
      "confusion_matrix: <ultralytics.utils.metrics.ConfusionMatrix object at 0x0000020904B4A990>\n",
      "curves: []\n",
      "curves_results: []\n",
      "fitness: 0.9960981011390686\n",
      "keys: ['metrics/accuracy_top1', 'metrics/accuracy_top5']\n",
      "results_dict: {'metrics/accuracy_top1': 0.9921962022781372, 'metrics/accuracy_top5': 1.0, 'fitness': 0.9960981011390686}\n",
      "save_dir: WindowsPath('D:/cellula/task1_yolo/runs/classify/yolo_classify_teeth2')\n",
      "speed: {'preprocess': 0.0005403567061924616, 'inference': 0.7901173912340707, 'loss': 5.406901186359101e-05, 'postprocess': 0.00012140469822862342}\n",
      "task: 'classify'\n",
      "top1: 0.9921962022781372\n",
      "top5: 1.0\n"
     ]
    }
   ],
   "source": [
    "# Evaluate the model on test set\n",
    "metrics = model.val(\n",
    "    data=r\"D:\\cellula\\task1_yolo\\Teeth_Dataset\",\n",
    "    split=\"test\"\n",
    ")\n",
    "\n",
    "print(metrics)  # contains top1 and top5 accuracy\n"
   ]
  },
  {
   "cell_type": "code",
   "execution_count": 5,
   "id": "8514101b",
   "metadata": {},
   "outputs": [
    {
     "name": "stdout",
     "output_type": "stream",
     "text": [
      "Ultralytics 8.3.199  Python-3.13.7 torch-2.8.0+cpu CPU (AMD Ryzen 9 9955HX 16-Core Processor)\n",
      "\u001b[34m\u001b[1mtrain:\u001b[0m D:\\cellula\\task1_yolo\\Teeth_Dataset\\train... found 3087 images in 7 classes  \n",
      "\u001b[34m\u001b[1mval:\u001b[0m D:\\cellula\\task1_yolo\\Teeth_Dataset\\val... found 1028 images in 7 classes  \n",
      "ERROR \u001b[34m\u001b[1mtest:\u001b[0m D:\\cellula\\task1_yolo\\Teeth_Dataset\\test... found 897 images in 6 classes (requires 7 classes, not 6)\n",
      "\u001b[34m\u001b[1mval: \u001b[0mFast image access  (ping: 0.00.0 ms, read: 148.257.9 MB/s, size: 7.3 KB)\n",
      "\u001b[K\u001b[34m\u001b[1mval: \u001b[0mScanning D:\\cellula\\task1_yolo\\Teeth_Dataset\\val... 1028 images, 0 corrupt: 100% ━━━━━━━━━━━━ 1028/1028 2.0Mit/s 0.0s0s\n",
      "\u001b[K               classes   top1_acc   top5_acc: 100% ━━━━━━━━━━━━ 65/65 34.8it/s 1.9s0.1s\n",
      "                   all      0.993          1\n",
      "Speed: 0.0ms preprocess, 0.8ms inference, 0.0ms loss, 0.0ms postprocess per image\n",
      "Results saved to \u001b[1mD:\\cellula\\task1_yolo\\runs\\classify\\yolo_classify_teeth4\u001b[0m\n",
      "ultralytics.utils.metrics.ClassifyMetrics object with attributes:\n",
      "\n",
      "confusion_matrix: <ultralytics.utils.metrics.ConfusionMatrix object at 0x000002090E76DFD0>\n",
      "curves: []\n",
      "curves_results: []\n",
      "fitness: 0.9965953230857849\n",
      "keys: ['metrics/accuracy_top1', 'metrics/accuracy_top5']\n",
      "results_dict: {'metrics/accuracy_top1': 0.9931906461715698, 'metrics/accuracy_top5': 1.0, 'fitness': 0.9965953230857849}\n",
      "save_dir: WindowsPath('D:/cellula/task1_yolo/runs/classify/yolo_classify_teeth4')\n",
      "speed: {'preprocess': 0.0006237354866547894, 'inference': 0.8230509728445592, 'loss': 6.692604173576379e-05, 'postprocess': 0.00012256803578997923}\n",
      "task: 'classify'\n",
      "top1: 0.9931906461715698\n",
      "top5: 1.0\n"
     ]
    }
   ],
   "source": [
    "metrics = model.val(data=r\"D:\\cellula\\task1_yolo\\Teeth_Dataset\")\n",
    "print(metrics)  # shows top1_acc, top5_acc, etc."
   ]
  },
  {
   "cell_type": "code",
   "execution_count": 6,
   "id": "d115c4ea",
   "metadata": {},
   "outputs": [
    {
     "name": "stdout",
     "output_type": "stream",
     "text": [
      "YOLOv8n-cls summary: 56 layers, 1,447,255 parameters, 0 gradients, 3.4 GFLOPs\n"
     ]
    },
    {
     "data": {
      "text/plain": [
       "(56, 1447255, 0, 3.3671168000000002)"
      ]
     },
     "execution_count": 6,
     "metadata": {},
     "output_type": "execute_result"
    }
   ],
   "source": [
    "from ultralytics import YOLO\n",
    "\n",
    "\n",
    "model = YOLO(r\"D:\\cellula\\task1_yolo\\runs\\classify\\yolo_classify_teeth\\weights\\best.pt\")\n",
    "\n",
    "model.info()"
   ]
  },
  {
   "cell_type": "code",
   "execution_count": 8,
   "id": "e4396ee6",
   "metadata": {},
   "outputs": [
    {
     "name": "stdout",
     "output_type": "stream",
     "text": [
      "\n",
      "image 1/1 D:\\cellula\\task1_yolo\\Teeth_Dataset\\test\\CoS\\b_79_0_457.jpg: 224x224 CoS 0.96, CaS 0.02, MC 0.01, OC 0.00, OT 0.00, 4.9ms\n",
      "Speed: 1.5ms preprocess, 4.9ms inference, 0.0ms postprocess per image at shape (1, 3, 224, 224)\n",
      "ultralytics.engine.results.Probs object with attributes:\n",
      "\n",
      "data: tensor([2.2063e-02, 9.6345e-01, 1.2952e-06, 1.4246e-02, 2.0204e-04, 4.2692e-06, 3.6906e-05])\n",
      "orig_shape: None\n",
      "shape: torch.Size([7])\n",
      "top1: 1\n",
      "top1conf: tensor(0.9634)\n",
      "top5: [1, 0, 3, 4, 6]\n",
      "top5conf: tensor([9.6345e-01, 2.2063e-02, 1.4246e-02, 2.0204e-04, 3.6906e-05])\n"
     ]
    }
   ],
   "source": [
    "results = model.predict(\n",
    "    source=r\"D:\\cellula\\task1_yolo\\Teeth_Dataset\\test\\CoS\\b_79_0_457.jpg\",\n",
    "    imgsz=224\n",
    ")\n",
    "\n",
    "print(results[0].probs)  # class probabilities\n"
   ]
  },
  {
   "cell_type": "code",
   "execution_count": 25,
   "id": "63c8e925",
   "metadata": {},
   "outputs": [
    {
     "name": "stdout",
     "output_type": "stream",
     "text": [
      "\n",
      "image 1/1 D:\\cellula\\task1_yolo\\Teeth DataSet\\Teeth_Dataset\\test_split\\train\\CaS\\a_79_0_8011.jpg: 224x224 CaS 1.00, MC 0.00, Gum 0.00, CoS 0.00, OLP 0.00, 4.9ms\n",
      "Speed: 1.8ms preprocess, 4.9ms inference, 0.0ms postprocess per image at shape (1, 3, 224, 224)\n",
      "predicted label: CaS (confidence: 1.00)\n"
     ]
    }
   ],
   "source": [
    "result1= model.predict(r\"D:\\cellula\\task1_yolo\\Teeth DataSet\\Teeth_Dataset\\test_split\\train\\CaS\\a_79_0_8011.jpg\")\n",
    "\n",
    "\n",
    "for r in result1:\n",
    "    probs=r.probs\n",
    "    top1= probs.top1\n",
    "    conf = probs.top1conf \n",
    "    label = model.names[top1]\n",
    "    print(f\"predicted label: {label} (confidence: {conf:.2f})\")"
   ]
  },
  {
   "cell_type": "code",
   "execution_count": null,
   "id": "3aad336e",
   "metadata": {},
   "outputs": [],
   "source": []
  },
  {
   "cell_type": "code",
   "execution_count": 9,
   "id": "56793cd8",
   "metadata": {},
   "outputs": [
    {
     "name": "stderr",
     "output_type": "stream",
     "text": [
      "2025-09-13 15:01:01.585 WARNING streamlit.runtime.scriptrunner_utils.script_run_context: Thread 'MainThread': missing ScriptRunContext! This warning can be ignored when running in bare mode.\n",
      "2025-09-13 15:01:01.636 \n",
      "  \u001b[33m\u001b[1mWarning:\u001b[0m to view this Streamlit app on a browser, run it with the following\n",
      "  command:\n",
      "\n",
      "    streamlit run d:\\cellula\\task1_yolo\\yollo\\Lib\\site-packages\\ipykernel_launcher.py [ARGUMENTS]\n",
      "2025-09-13 15:01:01.636 Thread 'MainThread': missing ScriptRunContext! This warning can be ignored when running in bare mode.\n",
      "2025-09-13 15:01:01.637 Thread 'MainThread': missing ScriptRunContext! This warning can be ignored when running in bare mode.\n",
      "2025-09-13 15:01:01.637 Thread 'MainThread': missing ScriptRunContext! This warning can be ignored when running in bare mode.\n",
      "2025-09-13 15:01:01.645 Thread 'MainThread': missing ScriptRunContext! This warning can be ignored when running in bare mode.\n",
      "2025-09-13 15:01:01.645 Thread 'MainThread': missing ScriptRunContext! This warning can be ignored when running in bare mode.\n",
      "2025-09-13 15:01:01.646 Thread 'MainThread': missing ScriptRunContext! This warning can be ignored when running in bare mode.\n"
     ]
    }
   ],
   "source": [
    "import streamlit as st\n",
    "from ultralytics import YOLO\n",
    "\n",
    "@st.cache_resource\n",
    "def load_model():\n",
    "    model = YOLO(r\"D:\\cellula\\task1_yolo\\runs\\classify\\yolo_classify_teeth\\weights\\best.pt\")\n",
    "    return model\n",
    "\n",
    "model = load_model()"
   ]
  },
  {
   "cell_type": "code",
   "execution_count": null,
   "id": "714e00ce",
   "metadata": {},
   "outputs": [],
   "source": []
  },
  {
   "cell_type": "code",
   "execution_count": null,
   "id": "d3beda9b",
   "metadata": {},
   "outputs": [],
   "source": []
  },
  {
   "cell_type": "code",
   "execution_count": null,
   "id": "5cfe2eac",
   "metadata": {},
   "outputs": [],
   "source": []
  }
 ],
 "metadata": {
  "kernelspec": {
   "display_name": "yollo",
   "language": "python",
   "name": "python3"
  },
  "language_info": {
   "codemirror_mode": {
    "name": "ipython",
    "version": 3
   },
   "file_extension": ".py",
   "mimetype": "text/x-python",
   "name": "python",
   "nbconvert_exporter": "python",
   "pygments_lexer": "ipython3",
   "version": "3.13.7"
  }
 },
 "nbformat": 4,
 "nbformat_minor": 5
}
